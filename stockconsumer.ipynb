{
 "cells": [
  {
   "cell_type": "code",
   "execution_count": null,
   "id": "aa5a07aa-936e-4be4-8a59-693d15daa35c",
   "metadata": {},
   "outputs": [],
   "source": [
    "from kafka import KafkaConsumer\n",
    "from pymongo import MongoClient\n",
    "import json\n",
    "\n",
    "# MongoDB setup\n",
    "client = MongoClient(\"mongodb://localhost:27017/\")\n",
    "db = client['stock_market']\n",
    "collection = db['stock_data']\n",
    "\n",
    "# Kafka setup\n",
    "consumer = KafkaConsumer(\n",
    "    'stock_prices',\n",
    "    bootstrap_servers='localhost:9092',\n",
    "    auto_offset_reset='latest',\n",
    "    value_deserializer=lambda m: json.loads(m.decode('utf-8'))\n",
    ")\n",
    "\n",
    "print(\"Consumer started... Listening for stock data\")\n",
    "\n",
    "for message in consumer:\n",
    "    record = message.value\n",
    "    print(f\"Received: {record}\")\n",
    "    try:\n",
    "        # Save to MongoDB\n",
    "        collection.insert_one(record)\n",
    "        print(f\"Saved to MongoDB: {record['ticker']}\")\n",
    "    except Exception as e:\n",
    "        print(f\"MongoDB Error: {e}\")\n"
   ]
  }
 ],
 "metadata": {
  "kernelspec": {
   "display_name": "Python 3 (ipykernel)",
   "language": "python",
   "name": "python3"
  },
  "language_info": {
   "codemirror_mode": {
    "name": "ipython",
    "version": 3
   },
   "file_extension": ".py",
   "mimetype": "text/x-python",
   "name": "python",
   "nbconvert_exporter": "python",
   "pygments_lexer": "ipython3",
   "version": "3.9.0"
  }
 },
 "nbformat": 4,
 "nbformat_minor": 5
}
